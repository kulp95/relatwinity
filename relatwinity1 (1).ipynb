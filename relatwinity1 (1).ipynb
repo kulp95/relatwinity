{
 "cells": [
  {
   "cell_type": "markdown",
   "metadata": {},
   "source": [
    "# Welcome to Relatwinity!\n",
    "\n",
    "By Jessica Kulp\n",
    "<br>**________________________**\n",
    "\n",
    " In this notebook, we will learn about special relativity by exploring The Twin Paradox using interactive space-time diagrams."
   ]
  },
  {
   "cell_type": "markdown",
   "metadata": {},
   "source": [
    "\n",
    "###  The Twin Paradox\n",
    "\n",
    "**In the classic Twin Paradox example, there is Twin A and Twin B, who we will assume are exactly the same age. While Twin A remains on Earth, Twin B travels to some distant star and then returns to Earth where Twin A is. \n",
    "After this trip, which twin is older?**\n",
    "\n",
    "\n",
    "<a href=\"https://imgbb.com/\"><img src=\"https://i.ibb.co/2KKxwJ0/twindiagram.jpg\" alt=\"twindiagram\" border=\"0\"></a><br />\n",
    "\n",
    "\n",
    "\n",
    "Without considering special relativity, one might say they are still the same age, of course! Although one has taken a trip to space, the same amount of time has passed for each twin and thus they are still the same age, because that's how time works, right? \n",
    "\n",
    "As we learn about special relativity, we will come to realize that this is not quite true. When we take the relativistic speed of Twin B into consideration, we will see that one twin does end up younger than the other. \n",
    "\n",
    "If you already have a strong grasp on the concept of special relativity, please feel free to skip ahead and view the space-time diagrams of the Twin Paradox (immediately after the section titled *Space-Time Diagrams*). If you are new to relativity or would like a refresher, please read the following sections!"
   ]
  },
  {
   "cell_type": "markdown",
   "metadata": {},
   "source": [
    "\n",
    "### What is Special Relativity?\n",
    "\n",
    "In introductory physics courses, we learn about things like gravity, acceleration, projectile motion, and friction. This is called Newtonian physics, and while it is generally an accurate way to describe the motion in our every day lives, it does not take *all* the laws of physics into consideration. \n",
    "\n",
    "One of these neglected effects is called special relativity. Relativity applies to all motion to a small extent, though it is only really relevant to objects moving at extremely high speeds (close to the speed of light, 3·10<sup>8</sup> meters per second). \n",
    "\n",
    "In special relativity, we examine the following questions: What if time was not definite, but relative? What if objects seemed to be different sizes at different speeds? What happens when we consider motion from the reference frame of the moving object, instead of the reference frame of the stationary observer?\n",
    "\n",
    "One basic yet vital concept that must be learned to understand relativity is that of a reference frame. A reference frame (more accurately, an inertial frame) essentially refers to the perspective of a certain observer or object. \n",
    "\n",
    "For instance, if you are standing on a sidewalk and you see a car passing by, you claim that you are stationary (relative to the ground) and that the person driving the car is moving with some velocity, v. However, the driver claims that she is stationary (relative to the car) and that you are moving with the velocity, v, in the opposite direction.*\n",
    "\n",
    "These are different frames of reference, defined by a set coordinate system (like the ground or the car in this case). Both observers are \"correct\" - They just have different perspectives *due to their motion*. Essentially, an inertial frame is defined by an observer or object's specific surrounding coordinate system which is reliant on its motion. Thus, this coordinate system is only upheld when the motion of the observer or object is unchanging. \n",
    "\n",
    "\\* *This is an example of Galilean relativity. If you are struggling with the concept of reference frames or special relativity in general, Galilean relativity problems may be helpful as they are more familiar.\n",
    "For a more detailed definition of an inertial frame of reference, or to find resources on Galilean relativity, please see the references at the end of this notebook.*"
   ]
  },
  {
   "cell_type": "markdown",
   "metadata": {},
   "source": [
    "\n",
    "### Basic Rules of Special Relativity \n",
    "\n",
    "Although relativity is a very complex concept, it can be boiled down to a few key points for the purposes of this notebook. \n",
    "\n",
    "Some fundamental assumptions that we must keep in mind are: \n",
    "1. Nothing can travel faster than light. ($c=3\\cdot10^{8} m/s$)\n",
    "2. The same laws of physics apply to all reference frames.\n",
    "3. Every reference frame observes the same speed of light. \n",
    "4. There is no prefered reference frame - Any observer can accurately claim to be at rest.\n",
    "\n",
    "And the conclusions that result from these assumptions are: \n",
    "1. Time dilation - Observers in different reference frames experience differences in time elapsed.\n",
    "2. Length contraction - Observers in different reference frames experience differences in lengths of objects. \n",
    "\n",
    "There are also several important formulas in special relativity. These are the few that are commonly taught in introductory physics: <br>\n",
    "* $t=t_{0}\\gamma$ *(time dilation)*\n",
    "* $L=\\frac{L_{0}}{\\gamma}$ *(length contraction)*\n",
    "\n",
    "There are also more detailed (and more reliable) special relativity formulas, which are called Lorentz Transforms:\n",
    "* $x = \\gamma(x_{0} + vt_{0})$ *(space transform)*\n",
    "* $t = \\gamma(t_{0} + \\frac{v}{c^{2}}x_{0})$ *(time transform)*\n",
    "\n",
    "In all of these formulas, gamma ($\\gamma$) is a factor which allows for conversion from one frame to another. This is also called the Lorentz factor. Gamma is always a quantity greater than 1 for any object in motion relative to another object. \n",
    "* $\\gamma=\\frac{1}{\\sqrt{1-\\frac{v^{2}}{c^{2}}}}$ \n",
    "\n",
    "\n",
    "*More in-depth explanations, proofs, and derivations of these phenomena and formulas can be found in the references at the end of this notebook, but for now, let's take these to be true so we can apply them to the Twin Paradox.*"
   ]
  },
  {
   "cell_type": "markdown",
   "metadata": {},
   "source": [
    "### Space-Time Diagrams\n",
    "\n",
    "Space-time diagrams are frequently used to visually represent special relativity problems, and they are exactly what they sound like: A diagram that graphs time on one axis (vertical) and space (position) on the other(s). \n",
    "\n",
    "For simplicity's sake, we will assume that only one-dimensional motion is occurring in our Twin Paradox example. However, it is important to note that this can be applied to two-dimensional motion as well by plotting the second dimension of position on a third axis. \n",
    "\n",
    "In relativity problems, it is useful to create multiple space-time diagrams for one scenario. This is necessary in order to represent the events of the problem from all references frames. \n",
    "<br>\n",
    "\n",
    "**Let's look at what the space-time diagrams would look like for the Twin Paradox.**\n",
    "<br>\n",
    "\n",
    "In the following diagrams...\n",
    "* <span style=\"color:red\">The red line represents the motion of Twin A, who stays on Earth.</span>\n",
    "* <span style=\"color:orange\">The yellow line represents the motion of Twin B, who travels to the distant star at relativistic speeds.</span>\n",
    "* The dotted line represents the motion of the distant star. \n",
    "\n",
    "The first diagram shows the motion of each twin and the star as observed by Twin A. The second diagram shows the motion of each twin and the star as observed by Twin B. When looking at these diagrams, do not worry about units or numerical values. Instead, focus on understanding their meaning in the context of the Twin Paradox scenario.\n",
    "\n",
    "*For further information about space-time diagrams, please see the references at the end of this notebook.*"
   ]
  },
  {
   "cell_type": "code",
   "execution_count": 1,
   "metadata": {},
   "outputs": [],
   "source": [
    "import plotly\n",
    "plotly.tools.set_credentials_file( username = 'jkulp', api_key = 'NEfxbj6T3947mujwRWzg' )\n",
    "import plotly.plotly as pl\n",
    "import plotly.graph_objs as GO"
   ]
  },
  {
   "cell_type": "code",
   "execution_count": 2,
   "metadata": {},
   "outputs": [
    {
     "data": {
      "text/html": [
       "<iframe id=\"igraph\" scrolling=\"no\" style=\"border:none;\" seamless=\"seamless\" src=\"https://plot.ly/~jkulp/30.embed\" height=\"525px\" width=\"100%\"></iframe>"
      ],
      "text/plain": [
       "<chart_studio.tools.PlotlyDisplay object>"
      ]
     },
     "execution_count": 2,
     "metadata": {},
     "output_type": "execute_result"
    }
   ],
   "source": [
    "#Creating data point values for TRAVELING TWIN (TWIN B)\n",
    "t_valsB = [0, 1, 2, 3, 4, 5, 6]\n",
    "x_valsB = [1, 2, 3, 4, 3, 2, 1]\n",
    "#Simple line for TRAVELING TWIN\n",
    "traceB = GO.Scatter(\n",
    "    x = x_valsB,\n",
    "    t = t_valsB,\n",
    "    name = \"Twin B (Traveling)\",\n",
    "    mode = \"lines\",\n",
    "    line = dict(color = \"rgba(300, 200, 0, 1)\",\n",
    "                width = 3)) #editing style of line\n",
    "\n",
    "#Creating data point values for EARTH TWIN (TWIN A)\n",
    "t_valsA = [0, 1, 2, 3, 4, 5, 6]\n",
    "x_valsA = [1, 1, 1, 1, 1, 1, 1]\n",
    "#Simple line for EARTH TWIN\n",
    "traceA = GO.Scatter(\n",
    "    x = x_valsA,\n",
    "    t = t_valsA, \n",
    "    mode = \"lines\",\n",
    "    name = \"Twin A (On Earth)\",\n",
    "    line = dict(color = \"rgba(185, 0, 0, 1)\",\n",
    "                width = 3))\n",
    "\n",
    "#Creating data point values for DISTANT STAR\n",
    "t_valsDS = [0, 1, 2, 3, 4, 5, 6]\n",
    "x_valsDS = [4, 4, 4, 4, 4, 4, 4]\n",
    "#Dashed simple line for DISTANT STAR\n",
    "traceDS = GO.Scatter(\n",
    "    x = x_valsDS,\n",
    "    t = t_valsDS,\n",
    "    mode = \"lines\",\n",
    "    name = \"Distant Star\",\n",
    "    line = dict(color = \"rgba(0, 0, 0, 4)\",\n",
    "               width = 3,\n",
    "               dash = \"dash\"))\n",
    "\n",
    "#Editing layout\n",
    "layout1 = dict(title = 'Space-Time Diagram - Twin A frame',\n",
    "              xaxis = dict(title = 'Space/Position (x)'),\n",
    "              yaxis = dict(title = 'Time (t)'),\n",
    "              )\n",
    "\n",
    "data1 = [traceB, traceA, traceDS]\n",
    "fig1 = dict(data=data1, layout=layout1)\n",
    "pl.iplot(fig1, filename = \"first_example\")"
   ]
  },
  {
   "cell_type": "code",
   "execution_count": 3,
   "metadata": {},
   "outputs": [
    {
     "name": "stdout",
     "output_type": "stream",
     "text": [
      "What event occurs at (0,0) on the space-time diagram?  \n",
      "What event occurs at (4,3) on the space-time diagram?  \n",
      "How would Twin A describe the position and motion of himself, his twin, and the distant star?  \n",
      "How would Twin A describe the total time of the trip?  \n"
     ]
    }
   ],
   "source": [
    "q1 = input(\"What event occurs at (0,0) on the space-time diagram? \")\n",
    "q2 = input(\"What event occurs at (4,3) on the space-time diagram? \")\n",
    "q3 = input(\"How would Twin A describe the position and motion of himself, his twin, and the distant star? \")\n",
    "q4 = input(\"How would Twin A describe the total time of the trip? \")"
   ]
  },
  {
   "cell_type": "code",
   "execution_count": 4,
   "metadata": {},
   "outputs": [
    {
     "data": {
      "text/html": [
       "<iframe id=\"igraph\" scrolling=\"no\" style=\"border:none;\" seamless=\"seamless\" src=\"https://plot.ly/~jkulp/32.embed\" height=\"525px\" width=\"100%\"></iframe>"
      ],
      "text/plain": [
       "<chart_studio.tools.PlotlyDisplay object>"
      ]
     },
     "execution_count": 4,
     "metadata": {},
     "output_type": "execute_result"
    }
   ],
   "source": [
    "#Creating data point values for EARTH TWIN (TWIN A)\n",
    "t_valsA2 = [0, 1, 2, 3, 4]\n",
    "x_valsA2 = [1, 0, -1, 0, 1]\n",
    "#Simple line for EARTH TWIN\n",
    "traceA2 = GO.Scatter(\n",
    "    x = x_valsA2,\n",
    "    t = t_valsA2,\n",
    "    name = \"Twin A (On Earth)\",\n",
    "    mode = \"lines\", #no \"points\", only lines\n",
    "    line = dict(color = \"rgba(185, 0, 0, 1)\",\n",
    "                width = 3)) #editing style of line\n",
    "\n",
    "#Creating data point values for TRAVELING TWIN (TWIN B)\n",
    "t_valsB2 = [0, 1, 2, 3, 4]\n",
    "x_valsB2 = [1, 1, 1, 1, 1]\n",
    "#Simple line for TRAVELING TWIN\n",
    "traceB2 = GO.Scatter(\n",
    "    x = x_valsB2,\n",
    "    t = t_valsB2,\n",
    "    name = \"Twin B (Traveling)\",\n",
    "    mode = \"lines\", \n",
    "    line = dict(color = \"rgba(300, 200, 0, 1)\",\n",
    "                width = 3))\n",
    "\n",
    "#Creating data point values for DISTANT STAR\n",
    "t_valsDS2 = [0, 1, 2, 3, 4]\n",
    "x_valsDS2 = [3, 2, 1, 2, 3,]\n",
    "#Dashed simple line for DISTANT STAR\n",
    "traceDS2 = GO.Scatter(\n",
    "    x = x_valsDS2,\n",
    "    t = t_valsDS2,\n",
    "    name = \"Distant Star\",\n",
    "    mode = \"lines\",\n",
    "    line = dict(color = \"rgba(0, 0, 0, 4)\",\n",
    "               width = 3,\n",
    "               dash = \"dash\"))\n",
    "\n",
    "#Editing layout\n",
    "layout2 = dict(title = 'Space-Time Diagram - Twin B frame',\n",
    "              xaxis = dict(title = 'Space/Position (x)'),\n",
    "              yaxis = dict(title = 'Time (t)'),\n",
    "              )\n",
    "\n",
    "data2 = [traceA2, traceB2, traceDS2]\n",
    "fig2 = dict(data=data2, layout=layout2)\n",
    "pl.iplot(fig2, filename = \"first_example2\")"
   ]
  },
  {
   "cell_type": "code",
   "execution_count": 5,
   "metadata": {},
   "outputs": [
    {
     "name": "stdout",
     "output_type": "stream",
     "text": [
      "What event occurs at (1,0) on the space-time diagram?  \n",
      "What event occurs at (1,2) on the space-time diagram?  \n",
      "How would Twin B describe the position and motion of himself, his twin, and the distant star?  \n",
      "How would Twin B describe the total time of the trip?  \n",
      "What do the differences from the first space-time diagram reflect about the different experiences between the two twins' reference frames? \n"
     ]
    }
   ],
   "source": [
    "q1 = input(\"What event occurs at (1,0) on the space-time diagram? \")\n",
    "q2 = input(\"What event occurs at (1,2) on the space-time diagram? \")\n",
    "q3 = input(\"How would Twin B describe the position and motion of himself, his twin, and the distant star? \")\n",
    "q4 = input(\"How would Twin B describe the total time of the trip? \")\n",
    "q5 = input(\"What do the differences from the first space-time diagram reflect about the different experiences between the two twins' reference frames?\")"
   ]
  },
  {
   "cell_type": "markdown",
   "metadata": {},
   "source": [
    "### A Closer Look\n",
    "\n",
    "Hopefully you were able to answer some of the questions above on your own, but let's take a closer look at what's happening in this scenario and how that's represented in the diagrams.\n",
    "\n",
    "Here's a reminder of the scenario: \n",
    "\n",
    "<a href=\"https://imgbb.com/\"><img src=\"https://i.ibb.co/2KKxwJ0/twindiagram.jpg\" alt=\"twindiagram\" border=\"0\"></a><br />\n",
    "\n",
    "At the beginning of the scenario, both Twin A and Twin B are on Earth and Twin B departs for the distant star at some velocity, v. We can call this departure Event I. At this point, the twins are clearly the same age.\n",
    "\n",
    "At some later instant, Twin B arrives at the distant star. We can call this arrival Event II. \n",
    "\n",
    "At another later instant, Twin B returns from the star and meets back up with Twin A on Earth. We can call this final return Event III. \n",
    "\n",
    "Defining specific events in a scenario is extremely helpful in solving any special relativity problem. While the times and positions of these events may differ between observers (due to the effects of special relativity, *time dilation* and *length contraction*), they occur at the same *instant*. \n",
    "\n",
    "So in this example, we have:\n",
    "* Event I: B departs from A toward the star at velocity v\n",
    "* Event II: B arrives at the star, and turns around to head back towards A\n",
    "* Event III: B returns to A on Earth\n",
    "\n",
    "Can you find the locations of these events on each of the space-time diagrams? Imagine what the trip to the star looks like from each of the twin's perspectives, keeping in mind the positions of Earth and the distant star as well. Try to connect these motions and events experienced by each twin to the lines and points on each space-time diagram (from both frames of reference). "
   ]
  },
  {
   "cell_type": "markdown",
   "metadata": {},
   "source": [
    "### The Paradox\n",
    "\n",
    "Finally, let's attempt to solve the Twin Paradox problem and find out which twin is younger after the trip to the star. Recall that in the *Basic Rules of Special Relativity* section of this notebook, we learned about time dilation and length contraction. While both of these concepts can be examined in the context of this problem, let's focus on time dilation, as the ultimate question we seek to answer is to do with changes in time. \n",
    "\n",
    "Recall that time dilation is the difference in time experienced by observers in different reference frames. The associated formulas for time dilation are:\n",
    "* $t = t_{0}\\gamma$ *(basic formula)*\n",
    "* $t = \\gamma(t_{0} + \\frac{v}{c^{2}}x_{0})$ *(detailed formula; Lorentz transform)*\n",
    "\n",
    "Also recall that in these formulas, the Lorentz factor ($\\gamma$) is a factor which allows for conversion from one frame to another. This factor is always a quantity greater than 1 for any object in motion relative to another object. \n",
    "* $\\gamma=\\frac{1}{\\sqrt{1-\\frac{v^{2}}{c^{2}}}}$ \n",
    "\n",
    "Let's think about what the basic formula tells us in the context of the Twin Paradox without plugging in specific values. Here, we are converting the time experienced by the traveling twin (B) to the time experienced by the twin on Earth (A). So in the above formulas, $t$ represents the time experienced by the stationary twin (A), and $t_{0}$ represents the time experienced by the moving twin (B). \n",
    "\n",
    "This can be rewritten as $t_{stationary} = t_{moving}\\gamma$.<br>\n",
    "If the Lorentz factor ($\\gamma$) is always a quantity greater than 1, then we know based on this formula that **the moving twin will experience less time passing than the stationary twin**. \n",
    "\n",
    "Therefore, when the twins meet up again on Earth, the twin who traveled to a distant star (B) is **younger** than the twin who remained on Earth (A)! This is the correct solution, and can also be found using the detailed formula as shown below. \n",
    "\n",
    "Let's similarly rewrite the Lorentz Transform as $t_{stationary} = \\gamma(t_{moving} + \\frac{v}{c^{2}}x_{moving})$. <br> \n",
    "Here, $x_{moving}$ represents the position of Event III from the reference frame of the moving twin (B). Because both twins started in the same position (on Earth, both claiming that both of them are at $x = 0$), they would also both define their ending positions as $x = 0$. \n",
    "\n",
    "Thus, the entire $x_{moving}$ term goes to zero, and the Lorentz Transform now becomes $t_{stationary} = \\gamma(t_{moving})$. This turned out to be the same result as the basic formula, so we find yet again that the traveling twin (B) is younger. \n",
    "\n",
    "*________*\n",
    "\n",
    "But, **something is off here.** Recall the *Basic Rules of Special Relativity* section of this notebook and see if you spot any inconsistencies with this solution.  \n",
    "\n",
    "Aha, there appears to be a paradox here (who would've thought)! \n",
    "\n",
    "Let's remember that *any observer can accurately claim that they are stationary*; There is no preferred reference frame. Just like in the Galilean relativity example, the traveling twin can claim that he is not moving with some velocity, v, but instead it is the twin on Earth who is moving with some velocity, v, in the opposite direction. \n",
    "\n",
    "In this case, when we apply the same logic as before using $t_{stationary} = t_{moving}\\gamma$ or the Lorentz Transform, we find that the twin on Earth experienced less time than the traveling twin, and thus **the twin on Earth (A) is actually the younger one.** Of course, it is impossible for both twins to be simulataneously younger than each other! This clearly seems like a paradox. \n",
    "\n",
    "So, after coming to this conclusion, what are our options? \n",
    "1. The Twin Paradox logically disproves special relativity (Einstein is wrong!)\n",
    "2. Something is off or missing in the above solution (We are wrong!)\n",
    "\n",
    "I hope you would agree that it's much more plausible that we are the ones who are wrong (though there were many scientists in the past who did believe this disproved Einstein's theory of relativity!). So, let's examine this possibility first. "
   ]
  },
  {
   "cell_type": "markdown",
   "metadata": {},
   "source": [
    "## The True Solution! \n",
    "\n",
    "One of the most common mistakes made in special relativity is using the formulas incorrectly. They seem extremely straightforward, but there are actually many assumptions and stipulations behind each equation. \n",
    "\n",
    "In the *Basic Rules of Special Relativity* section of this notebook, recall that we defined time dilation as the differences in time elapsed as experienced by observers in different reference frames. This may seem to apply to the Twin Paradox example, and it does in a very specific, limited way, but there is a key aspect of the scenario that we have neglected to closely consider. \n",
    "\n",
    "At the point when twin B arrives at the distant star (Event II), he must turn around to begin heading back toward Earth in the opposite direction. Even if we assume that this turn happened instantaneously and that he did not slow down or speed up to make this turn, he must have **accelerated**, because he changed his direction of motion. \n",
    "\n",
    "After this realization, you might be tempted to conclude that the unaccounted-for acceleration is what breaks the line of logic we followed above. However, we can prove through a simple thought experiment that a seeming paradox can still occur in problems with no acceleration present.* \n",
    "\n",
    "This acceleration is not in itself the direct cause of the apparent paradox we found above, but in this specific example, it does lead us to the key problem. When Twin B accelerates by turning around, *he is exceeding the limits of his initial inertial frame*. That is, **the frame in which he existed during his outgoing trip to the distant star is *not* the same as the frame in which he existed during his return trip.** While the acceleration does cause Twin B's inertial frame to change, it is important to discern that it is not the acceleration that causes the issue, but the changing of the inertial frame itself.\n",
    "\n",
    "If we look closely at a more technical definition of an inertial frame, we see that the crucial requirement is unchanging motion, either remaining at rest or remaining in motion at some velocity, v.* Remember that velocity is not only a speed, but a direction; Thus, if an object *accelerates* either by changing speed or changing direction, the inertial frame no longer applies to the object.\n",
    "\n",
    "<a href=\"https://imgbb.com/\"><img src=\"https://i.ibb.co/2KKxwJ0/twindiagram.jpg\" alt=\"twindiagram\" border=\"0\"></a><br />\n",
    "\n",
    "While Twin A remains in an inertial frame on Earth for the entirety of the problem, Twin B experiences two different inertial frames (one on the outgoing trip, moving at velocity $+v$, and a separate one on the return trip, moving at velocity $-v$)\n",
    "\n",
    "The fact that there are two moving inertial frames and only one stationary inertial frame allows us to distinguish between the two types of motion (whereas previously we believed there were only two reference frames, both of which could correctly claim to be stationary while having two obviously different types of motion). Now we know that the third reference frame provides clarity by offering an outside perspective about the other two reference frames' motions.  \n",
    "\n",
    "***When we apply this new insight to the Twin Paradox and solve it as three separate reference frames, it does agree with our initial conclusion that Twin B (the traveling twin) is younger when they meet back up on Earth. However, this should not cloud the importance of the clarifications made above; Without it, the solution would be impossible and paradoxical!***\n",
    "<br>\n",
    "\n",
    "\\**For a detailed definition of an inertial frame, or to view a thought experiment which demonstrates why the claims made above are true, please see the references below.* \n",
    "\n",
    "<br>\n",
    "━━━━━━━━━━━━━━━━━━━━━━━━━━━━━━━━━━━━━━━━━━━━━━━━━━━━━━━━━━━━━"
   ]
  },
  {
   "cell_type": "markdown",
   "metadata": {},
   "source": [
    "### *References*\n",
    "\n",
    "*Galilean Relativity*\n",
    "* https://www.youtube.com/watch?v=uJ8l4kh_jto\n",
    "* http://www.homepages.ucl.ac.uk/~ucanfkr/lecturenotes/sr/sr1.pdf\n",
    "\n",
    "*Inertial Frames*\n",
    "* https://www.youtube.com/watch?v=8xiIP2B6L3M\n",
    "* http://spiff.rit.edu/classes/phys150/lectures/inertial/inertial.html\n",
    "\n",
    "*Time Dilation and Length Contraction* \n",
    "* https://youtu.be/CB1QFUCga0I?t=428\n",
    "* https://newt.phys.unsw.edu.au/einsteinlight/jw/module4_time_dilation.htm\n",
    "\n",
    "*Formula Derivations*\n",
    "* https://www.youtube.com/watch?v=qXxtqK7G4Uw\n",
    "* http://www2.physics.umd.edu/~yakovenk/teaching/Lorentz.pdf\n",
    "\n",
    "*Space-Time Diagrams*\n",
    "* https://www.youtube.com/watch?v=hTxWAQGgeQw\n",
    "* http://www.astro.ucla.edu/~wright/st_diags.htm\n",
    "\n",
    "*Thought Experiment* \n",
    "* https://youtu.be/GgvajuvSpF4?t=312\n"
   ]
  },
  {
   "cell_type": "code",
   "execution_count": null,
   "metadata": {},
   "outputs": [],
   "source": []
  }
 ],
 "metadata": {
  "kernelspec": {
   "display_name": "Python 3",
   "language": "python",
   "name": "python3"
  },
  "language_info": {
   "codemirror_mode": {
    "name": "ipython",
    "version": 3
   },
   "file_extension": ".py",
   "mimetype": "text/x-python",
   "name": "python",
   "nbconvert_exporter": "python",
   "pygments_lexer": "ipython3",
   "version": "3.7.0"
  }
 },
 "nbformat": 4,
 "nbformat_minor": 2
}
